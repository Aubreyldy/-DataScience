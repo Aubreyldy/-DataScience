{
 "cells": [
  {
   "cell_type": "markdown",
   "metadata": {},
   "source": [
    "# Error Backpropagation\n",
    "\n",
    "In this homework, our goal is to test two approaches to implement backpropagation in neural networks. The neural network we consider is depicted below:\n",
    "\n",
    "![](files/net.svg.png)"
   ]
  },
  {
   "cell_type": "markdown",
   "metadata": {},
   "source": [
    "## Exercise 1: Implementing backpropagation (20 P)\n",
    "\n",
    "The following code loads the data and current parameters, applies the neural network forward pass, and computes the error. Pre-activations at each layer are stored in a list so that they can be reused for the backward pass."
   ]
  },
  {
   "cell_type": "code",
   "execution_count": 10,
   "metadata": {},
   "outputs": [],
   "source": [
    "import numpy,utils\n",
    "\n",
    "# 1. Get the data and parameters\n",
    "\n",
    "X,T = utils.getdata()\n",
    "W,B = utils.getparams()\n",
    "\n",
    "# 2. Run the forward pass\n",
    "Z1 = X.dot(W[0])+B[0]\n",
    "A1 = numpy.maximum(0,Z1)\n",
    "Z2 = A1.dot(W[1])+B[1]\n",
    "A2 = numpy.maximum(0,Z2)\n",
    "Z3 = A2.dot(W[2])+B[2]\n",
    "A3 = numpy.maximum(0,Z3)\n",
    "Y  = A3.dot(W[3])+B[3];\n",
    "\n",
    "# 3. Compute the error\n",
    "\n",
    "err = ((Y-T)**2).mean()"
   ]
  },
  {
   "cell_type": "markdown",
   "metadata": {},
   "source": [
    "Here, you are asked to implement the backward pass, and obtain the gradient with respect to the weight and bias parameters.\n",
    "\n",
    "**Task:**\n",
    "\n",
    " * **Write code that computes the gradient (and format it in the same way as the parameters themselves, i.e. as lists of arrays).**"
   ]
  },
  {
   "cell_type": "code",
   "execution_count": 2,
   "metadata": {},
   "outputs": [],
   "source": [
    "#pip install torch"
   ]
  },
  {
   "cell_type": "code",
   "execution_count": 27,
   "metadata": {},
   "outputs": [],
   "source": [
    "import numpy as np\n",
    "import torch\n",
    "import torch.nn\n",
    "\n",
    "def exercise1(W,B,X,Z1,A1,Z2,A2,Z3,A3,Y,T):\n",
    "    \n",
    "    W1,W2,W3,W4 = W\n",
    "    \n",
    "    DY = 2*(Y - T)\n",
    "    \n",
    "    DB4 = DY.mean(axis = 0)\n",
    "    DW4 = A3.T.dot(DY) / len(X)\n",
    "    \n",
    "    DZ3 = DY.dot(W4.T)*(Z3 > 0)\n",
    "    \n",
    "    DB3 = DZ3.mean(axis = 0)\n",
    "    DW3 = A2.T.dot(DZ3) / len(X)\n",
    "    \n",
    "    DZ2 = DZ3.dot(W3.T) * (Z2 > 0)\n",
    "    \n",
    "    DB2 = DZ2.mean(axis = 0)\n",
    "    DW2 = A1.T.dot(DZ2) / len(X)\n",
    "    \n",
    "    DZ1 = DZ2.dot(W2.T)*(Z1 > 0)\n",
    "    \n",
    "    DB1 = DZ1.mean(axis = 0)\n",
    "    DW1 = X.T.dot(DZ1) / len(X)\n",
    "    \n",
    "    #bias unimportant?\n",
    "    \n",
    "    return [DW1, DW2, DW3, DW4], [DB1, DB2, DB3, DB4]\n",
    "    \n",
    "    \n",
    "\n",
    "\n",
    "\n",
    "DW,DB = exercise1(W,B,X,Z1,A1,Z2,A2,Z3,A3,Y,T)\n"
   ]
  },
  {
   "cell_type": "markdown",
   "metadata": {},
   "source": [
    "To test the implementation, we print the gradient w.r.t. the first parameter in the first layer."
   ]
  },
  {
   "cell_type": "code",
   "execution_count": 28,
   "metadata": {},
   "outputs": [
    {
     "name": "stdout",
     "output_type": "stream",
     "text": [
      "1.542282152339245\n"
     ]
    }
   ],
   "source": [
    "print(numpy.linalg.norm(DW[0][0,0]))"
   ]
  },
  {
   "cell_type": "markdown",
   "metadata": {},
   "source": [
    "## Exercise 2: Using Automatic Differentiation (10 P)\n",
    "\n",
    "Because manual computation of gradients can be tedious and error-prone, it is now more common to use libraries that perform automatic differentiation. In this exercise, we make use of the PyTorch library. You are then asked to compute the error of the neural network within that framework, and this error can then be automatically differentiated."
   ]
  },
  {
   "cell_type": "code",
   "execution_count": 53,
   "metadata": {},
   "outputs": [],
   "source": [
    "import torch\n",
    "import torch.nn as nn\n",
    "\n",
    "# 1. Get the data and parameters\n",
    "\n",
    "X,T = utils.getdata()\n",
    "W,B = utils.getparams()\n",
    "\n",
    "# 2. Convert to PyTorch objects\n",
    "\n",
    "X = torch.Tensor(X)\n",
    "T = torch.Tensor(T)\n",
    "W = [nn.Parameter(torch.Tensor(w)) for w in W]\n",
    "B = [nn.Parameter(torch.Tensor(b)) for b in B]"
   ]
  },
  {
   "cell_type": "markdown",
   "metadata": {},
   "source": [
    "**Task:**\n",
    "\n",
    " * **Write code that computes the forward pass and the error in a way that can be differentiated automatically by PyTorch.**"
   ]
  },
  {
   "cell_type": "code",
   "execution_count": 54,
   "metadata": {},
   "outputs": [],
   "source": [
    "def exercise2(W,B,X,T):\n",
    "    \n",
    "    W1,W2,W3,W4 = W\n",
    "    B1,B2,B3,B4 = B\n",
    "    \n",
    "\n",
    "    Z1 = torch.mm(X, W1) + B1  # matrix multiplication\n",
    "    A1 = torch.clamp(Z1, min = 0) # rectified linear unit\n",
    "    \n",
    "    Z2 = torch.mm(A1, W2) + B2\n",
    "    A2 = torch.clamp(Z2, min = 0)\n",
    "    \n",
    "    Z3 = torch.mm(A2, W3) + B3\n",
    "    A3 = torch.clamp(Z3, min =0)\n",
    "    \n",
    "    Y = torch.mm(A3, W4) + B4\n",
    "    \n",
    "    return ((Y - T) ** 2).mean()\n",
    "    \n",
    "    \n",
    "    \n",
    "    \n",
    "err = exercise2(W,B,X,T)\n"
   ]
  },
  {
   "cell_type": "markdown",
   "metadata": {},
   "source": [
    "Now that the error has been computed, we can apply automatic differentiation to get the parameters. Like for the first exercise, we print the gradient of the first weight parameter of the first layer."
   ]
  },
  {
   "cell_type": "code",
   "execution_count": 58,
   "metadata": {},
   "outputs": [
    {
     "name": "stdout",
     "output_type": "stream",
     "text": [
      "1.5422822\n"
     ]
    }
   ],
   "source": [
    "err.backward(retain_graph=True)\n",
    "\n",
    "\n",
    "print(numpy.linalg.norm(W[0].grad[0,0]))\n",
    "\n",
    "W[0].grad = None\n",
    "W[1].grad = None\n",
    "W[2].grad = None\n",
    "W[3].grad = None\n",
    "\n",
    "#print(W[0].grad.shape)"
   ]
  },
  {
   "cell_type": "markdown",
   "metadata": {},
   "source": [
    "Here, we can verify that the value of the gradient obtained by manual and automatic differentiation are the same."
   ]
  },
  {
   "cell_type": "code",
   "execution_count": 32,
   "metadata": {},
   "outputs": [
    {
     "name": "stdout",
     "output_type": "stream",
     "text": [
      "99 5970.38037109375\n",
      "199 3954.881103515625\n",
      "299 2620.96875\n",
      "399 1738.095458984375\n",
      "499 1153.7125244140625\n",
      "599 766.8773193359375\n",
      "699 510.79052734375\n",
      "799 341.24688720703125\n",
      "899 228.98988342285156\n",
      "999 154.65667724609375\n",
      "1099 105.4305419921875\n",
      "1199 72.8281478881836\n",
      "1299 51.233089447021484\n",
      "1399 36.927330017089844\n",
      "1499 27.449447631835938\n",
      "1599 21.169198989868164\n",
      "1699 17.00717544555664\n",
      "1799 14.248553276062012\n",
      "1899 12.419769287109375\n",
      "1999 11.207252502441406\n",
      "Result: y = 0.011601278558373451 + 0.8104267120361328 x + -0.002001413842663169 x^2 + -0.08674260228872299 x^3\n"
     ]
    }
   ],
   "source": [
    "import torch\n",
    "import math\n",
    "\n",
    "dtype = torch.float\n",
    "device = torch.device(\"cpu\")\n",
    "# device = torch.device(\"cuda:0\")  # Uncomment this to run on GPU\n",
    "\n",
    "# Create Tensors to hold input and outputs.\n",
    "# By default, requires_grad=False, which indicates that we do not need to\n",
    "# compute gradients with respect to these Tensors during the backward pass.\n",
    "x = torch.linspace(-math.pi, math.pi, 2000, device=device, dtype=dtype)\n",
    "y = torch.sin(x)\n",
    "\n",
    "# Create random Tensors for weights. For a third order polynomial, we need\n",
    "# 4 weights: y = a + b x + c x^2 + d x^3\n",
    "# Setting requires_grad=True indicates that we want to compute gradients with\n",
    "# respect to these Tensors during the backward pass.\n",
    "a = torch.randn((), device=device, dtype=dtype, requires_grad=True)\n",
    "b = torch.randn((), device=device, dtype=dtype, requires_grad=True)\n",
    "c = torch.randn((), device=device, dtype=dtype, requires_grad=True)\n",
    "d = torch.randn((), device=device, dtype=dtype, requires_grad=True)\n",
    "\n",
    "learning_rate = 1e-6\n",
    "for t in range(2000):\n",
    "    # Forward pass: compute predicted y using operations on Tensors.\n",
    "    y_pred = a + b * x + c * x ** 2 + d * x ** 3\n",
    "\n",
    "    # Compute and print loss using operations on Tensors.\n",
    "    # Now loss is a Tensor of shape (1,)\n",
    "    # loss.item() gets the scalar value held in the loss.\n",
    "    loss = (y_pred - y).pow(2).sum()\n",
    "    if t % 100 == 99:\n",
    "        print(t, loss.item())\n",
    "\n",
    "    # Use autograd to compute the backward pass. This call will compute the\n",
    "    # gradient of loss with respect to all Tensors with requires_grad=True.\n",
    "    # After this call a.grad, b.grad. c.grad and d.grad will be Tensors holding\n",
    "    # the gradient of the loss with respect to a, b, c, d respectively.\n",
    "    loss.backward()\n",
    "\n",
    "    # Manually update weights using gradient descent. Wrap in torch.no_grad()\n",
    "    # because weights have requires_grad=True, but we don't need to track this\n",
    "    # in autograd.\n",
    "    with torch.no_grad():\n",
    "        a -= learning_rate * a.grad\n",
    "        b -= learning_rate * b.grad\n",
    "        c -= learning_rate * c.grad\n",
    "        d -= learning_rate * d.grad\n",
    "\n",
    "        # Manually zero the gradients after updating weights\n",
    "        a.grad = None\n",
    "        b.grad = None\n",
    "        c.grad = None\n",
    "        d.grad = None\n",
    "\n",
    "print(f'Result: y = {a.item()} + {b.item()} x + {c.item()} x^2 + {d.item()} x^3')"
   ]
  },
  {
   "cell_type": "code",
   "execution_count": null,
   "metadata": {},
   "outputs": [],
   "source": []
  }
 ],
 "metadata": {
  "kernelspec": {
   "display_name": "Python 3",
   "language": "python",
   "name": "python3"
  },
  "language_info": {
   "codemirror_mode": {
    "name": "ipython",
    "version": 3
   },
   "file_extension": ".py",
   "mimetype": "text/x-python",
   "name": "python",
   "nbconvert_exporter": "python",
   "pygments_lexer": "ipython3",
   "version": "3.8.5"
  }
 },
 "nbformat": 4,
 "nbformat_minor": 1
}
