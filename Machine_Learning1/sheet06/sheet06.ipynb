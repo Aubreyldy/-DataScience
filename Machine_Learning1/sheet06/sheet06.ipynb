{
 "cells": [
  {
   "cell_type": "code",
   "execution_count": 1,
   "metadata": {},
   "outputs": [],
   "source": [
    "import numpy\n",
    "import sklearn\n",
    "%matplotlib inline"
   ]
  },
  {
   "cell_type": "markdown",
   "metadata": {},
   "source": [
    "# Learning curves and error bounds\n",
    "\n",
    "In this exercise, we test the performance of a classifier as we vary its complexity and the number of data points used for training, and compare the error with two bounds: the Hoeffdings bound, and the VC bound. As a first step, we load some artificial dataset where the two classes are 1000-dimensional Gaussians of same (isotropic) covariance and of different means."
   ]
  },
  {
   "cell_type": "code",
   "execution_count": 2,
   "metadata": {},
   "outputs": [
    {
     "name": "stdout",
     "output_type": "stream",
     "text": [
      "(20000, 1000) (20000,)\n"
     ]
    }
   ],
   "source": [
    "import utils\n",
    "X,T = utils.getdata()\n",
    "print(X.shape,T.shape)"
   ]
  },
  {
   "cell_type": "markdown",
   "metadata": {},
   "source": [
    "We consider the perceptron as a training algorithm."
   ]
  },
  {
   "cell_type": "code",
   "execution_count": 3,
   "metadata": {},
   "outputs": [],
   "source": [
    "import sklearn.linear_model\n",
    "model = sklearn.linear_model.Perceptron"
   ]
  },
  {
   "cell_type": "markdown",
   "metadata": {},
   "source": [
    "### Measuring the error (15 P)\n",
    "\n",
    "The first task is to build a function that estimates the classification error (the 0/1 loss) when training the data on $N$ examples (sampled randomly from the dataset), and observing only the first $d$ dimensions of the data. Your function should output the training error and the test error (measured on the points that have not been used for training). In order to get robust error estimates, run the procedure 10 times with different training/test splits, and compute the average training and test error over the 10 splits."
   ]
  },
  {
   "cell_type": "code",
   "execution_count": 4,
   "metadata": {},
   "outputs": [
    {
     "name": "stdout",
     "output_type": "stream",
     "text": [
      "[7 9 1 6 8 5 0 3 4 2]\n"
     ]
    }
   ],
   "source": [
    "R = numpy.random.permutation(10)\n",
    "\n",
    "print(R)\n"
   ]
  },
  {
   "cell_type": "code",
   "execution_count": 14,
   "metadata": {},
   "outputs": [],
   "source": [
    "def geterr(N,d,X,T):\n",
    "    \n",
    "    # -----------------------------\n",
    "    etrains = []\n",
    "    etests = []\n",
    "    \n",
    "    for _ in range(10):\n",
    "        R = numpy.random.permutation(len(X))\n",
    "        \n",
    "        Rtrain,Rtest = R[:N],R[N:]\n",
    "        Xtrain,Xtest = X[Rtrain,:d]*1,X[Rtest,:d]*1\n",
    "        Ttrain,Ttest = T[Rtrain]*1,T[Rtest]*1\n",
    "        \n",
    "        per = model()\n",
    "        per.fit(Xtrain,Ttrain)\n",
    "        etrains += [1-per.score(Xtrain,Ttrain)]\n",
    "        etests += [1-per.score(Xtest,Ttest)]\n",
    "    \n",
    "    return numpy.mean(etrains),numpy.mean(etests)\n",
    "    # -----------------------------\n",
    "    \n",
    "    #import solution\n",
    "    #etrain,etest = solution.geterr(N,d,X,T,model)\n",
    "    # -----------------------------\n",
    "    \n",
    "    #return etrain,etest"
   ]
  },
  {
   "cell_type": "markdown",
   "metadata": {},
   "source": [
    "### Bounding the test error (15 P)\n",
    "\n",
    "We would like to compare the test error estimates with error bounds seen during the lecture. We consider in particular the Hoeffding's bound given by\n",
    "$$\n",
    "R[f] \\leq R_\\text{emp}[f] + \\sqrt{\\frac{\\log(2/\\delta)}{2N}}\n",
    "$$\n",
    "which makes the assumption that the function $f$ was not learned, but predefined. Note that this assumption does not hold in practice, and we therefore expect the Hoeffding's bound to not be a bound of the test error. We will verify this in the subsequent experiments.\n",
    "\n",
    "We also consider the VC bound, which does not have this limitation and is therefore a true bound of the test error. The VC bound is given by:\n",
    "$$\n",
    "R[f] \\leq  R_\\text{emp}[f] + 2\\sqrt{2 \\frac{h_\\mathcal{F} (\\log (2N / h_\\mathcal{F}) + 1) + \\log(2/\\delta)}{N}}\n",
    "$$\n",
    "where $h_\\mathcal{F}$ is the VC-dimension that measures the model complexity, and we recall that $h_\\mathcal{F} = d+1$ for the set of linear models.\n",
    "\n",
    "In the following, we would like to implement these two bounds, so that they can be compared to the test error."
   ]
  },
  {
   "cell_type": "code",
   "execution_count": 15,
   "metadata": {},
   "outputs": [],
   "source": [
    "def hoeffding(Etrain,N,delta=0.05):\n",
    "    \n",
    "    # -----------------------------\n",
    "    return Etrain + (numpy.log(2/delta)/(2*N))**.5\n",
    "    # -----------------------------\n",
    "    #import solution\n",
    "    #val = solution.hoeffding(Etrain,N,delta)\n",
    "    # -----------------------------\n",
    "\n",
    "    #return val\n",
    "    \n",
    "def vc(Etrain,N,d,delta=0.05):\n",
    "    \n",
    "    # -----------------------------\n",
    "    h = d+1\n",
    "    return Etrain + 2*(2*(h*(numpy.log(2*N*1.0/h)+1) + numpy.log(2/delta))/N)**.5\n",
    "    # -----------------------------\n",
    "    #import solution\n",
    "    #val = solution.vc(Etrain,N,d,delta)\n",
    "    # -----------------------------\n",
    "    \n",
    "    #return val"
   ]
  },
  {
   "cell_type": "markdown",
   "metadata": {},
   "source": [
    "Once these functions have been implemented, test your implementation by running the following two experiments, where we plot the training and test error and the two bounds when varying different parameters.\n",
    "\n",
    "In the first experiment, we first keep the number of observed dimensions $d$ fixed and vary the number of data points $N$ used for training."
   ]
  },
  {
   "cell_type": "code",
   "execution_count": 11,
   "metadata": {},
   "outputs": [],
   "source": [
    "?zip"
   ]
  },
  {
   "cell_type": "code",
   "execution_count": 13,
   "metadata": {},
   "outputs": [
    {
     "name": "stdout",
     "output_type": "stream",
     "text": [
      "[  31   40   51   65   83  106  135  172  219  280  356  454  579  738\n",
      "  941 1199 1528 1947 2481 3162]\n",
      "[(31, 50), (40, 50), (51, 50), (65, 50), (83, 50), (106, 50), (135, 50), (172, 50), (219, 50), (280, 50), (356, 50), (454, 50), (579, 50), (738, 50), (941, 50), (1199, 50), (1528, 50), (1947, 50), (2481, 50), (3162, 50)]\n"
     ]
    }
   ],
   "source": [
    "print(numpy.logspace(1.5,3.5,20).astype('int'))\n",
    "Ns = numpy.logspace(1.5,3.5,20).astype('int')\n",
    "print(list(zip(Ns,[50]*len(Ns))))"
   ]
  },
  {
   "cell_type": "code",
   "execution_count": 16,
   "metadata": {},
   "outputs": [
    {
     "data": {
      "image/png": "[encoded data removed]",
      "text/plain": [
       "<Figure size 432x288 with 1 Axes>"
      ]
     },
     "metadata": {
      "needs_background": "light"
     },
     "output_type": "display_data"
    }
   ],
   "source": [
    "Ns = numpy.logspace(1.5,3.5,20).astype('int')\n",
    "utils.getcurves(X,T,zip(Ns,[50]*len(Ns)),Ns,geterr,hoeffding,vc)"
   ]
  },
  {
   "cell_type": "markdown",
   "metadata": {},
   "source": [
    "We observe that the Hoeffding's bound is indeed for some values of $N$ below the test error. Therefore, it is not a bound of the test error. Instead, the VC bound is always above the test error. While the bound is loose (it never actually reaches an error below 1) it still correctly predicts the benefit of including more data for improving the test error.\n",
    "\n",
    "In the second experiment, we keep the number of training points $N$ fixed and we vary the number of dimensions $d$ used for training."
   ]
  },
  {
   "cell_type": "code",
   "execution_count": 17,
   "metadata": {},
   "outputs": [
    {
     "data": {
      "image/png": "[encoded data removed]",
      "text/plain": [
       "<Figure size 432x288 with 1 Axes>"
      ]
     },
     "metadata": {
      "needs_background": "light"
     },
     "output_type": "display_data"
    }
   ],
   "source": [
    "ds = numpy.logspace(0,3,20).astype('int')\n",
    "utils.getcurves(X,T,zip([500]*len(ds),ds),ds,geterr,hoeffding,vc)"
   ]
  },
  {
   "cell_type": "markdown",
   "metadata": {},
   "source": [
    "Here again, the Hoeffding's bound is not a bound of the test error as it produces values below that error. Here, the VC bound varies in opposite direction to the test error. This can be due to the fact that we have set the VC-dimension to that of a general $d$-dimensional classifier, without taking in to account other aspects such as margin, which has a tendency to increase as we observe more dimensions."
   ]
  }
 ],
 "metadata": {
  "kernelspec": {
   "display_name": "Python 3",
   "language": "python",
   "name": "python3"
  },
  "language_info": {
   "codemirror_mode": {
    "name": "ipython",
    "version": 3
   },
   "file_extension": ".py",
   "mimetype": "text/x-python",
   "name": "python",
   "nbconvert_exporter": "python",
   "pygments_lexer": "ipython3",
   "version": "3.8.5"
  }
 },
 "nbformat": 4,
 "nbformat_minor": 1
}
