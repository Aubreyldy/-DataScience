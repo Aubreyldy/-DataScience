{
 "cells": [
  {
   "cell_type": "markdown",
   "metadata": {},
   "source": [
    "# Expectation-Maximization\n",
    "\n",
    "In this programming exercise we will apply the Expectation-Maximization method to estimate the parameters of the latent variable model presented in the theoretical part. The analysis will be performed on one dimension of the Boston Housing dataset, where input values are integers between 0 and 24."
   ]
  },
  {
   "cell_type": "code",
   "execution_count": 1,
   "metadata": {},
   "outputs": [
    {
     "name": "stdout",
     "output_type": "stream",
     "text": [
      "(506,)\n"
     ]
    }
   ],
   "source": [
    "import sklearn,sklearn.datasets\n",
    "\n",
    "X = sklearn.datasets.load_boston()['data'][:,8]\n",
    "m = 24\n",
    "print(X.shape)"
   ]
  },
  {
   "cell_type": "markdown",
   "metadata": {},
   "source": [
    "We restate here the model presented in the theory part. The first distribution $p(z|\\theta)$ produces the latent state $z \\in \\{H,T\\}$ which can be interpreted as the head/tail outcome of an (unfair) coin toss, and the following two distributions $p(x \\mid z=H,\\theta)$, $p(x \\mid z=T,\\theta)$ produce the observed data $x \\in \\{0,1,\\dots,m\\}$ conditioned on outcome of the coin toss $z$. The probability distributions are defined as:\n",
    "\n",
    "\\begin{align*}\n",
    "\tp(z=H \\mid \\theta) &= \\lambda\\\\\n",
    "\tp(z=T \\mid \\theta) &= 1 - \\lambda\\\\\t\n",
    "\tp(x \\mid z=H, \\theta) &= \\binom{m}{x} a^x (1-a)^{m-x}\\\\\n",
    "\tp(x \\mid z=T, \\theta) &= \\binom{m}{x} b^x (1-b)^{m-x}\n",
    "\\end{align*}\n",
    "\n",
    "The vector $\\theta = (\\lambda,a,b)$ contains the parameters of the model and these parameters need to be learned."
   ]
  },
  {
   "cell_type": "markdown",
   "metadata": {},
   "source": [
    "## Computing the Probability Mass Function (15 P)\n",
    "\n",
    "We first would like to implement a function that computes the probability mass function $p(x|\\theta)$ for every value of $x$ between $0$ and $m$.\n",
    "\n",
    "**Task:**\n",
    "\n",
    " * **Implement the function `pmf(lambd,a,b,m)`**"
   ]
  },
  {
   "cell_type": "code",
   "execution_count": 8,
   "metadata": {},
   "outputs": [
    {
     "data": {
      "text/plain": [
       "'\\n# test it\\nlambd,a,b = 0.5,0.25,0.75\\npmf(lambd,a,b,m)\\n'"
      ]
     },
     "execution_count": 8,
     "metadata": {},
     "output_type": "execute_result"
    }
   ],
   "source": [
    "import numpy\n",
    "from scipy.special import binom\n",
    "\n",
    "def pmf(lambd,a,b,m):\n",
    "    \n",
    "    X = numpy.arange(m+1)\n",
    "    \n",
    "    pH = binom(m,X) * a**X * (1-a)**(m-X) * lambd\n",
    "    pT = binom(m,X) * b**X * (1-b)**(m-X) * (1-lambd)\n",
    "    \n",
    "    return pH+pT\n",
    "\n",
    "'''\n",
    "# test it\n",
    "lambd,a,b = 0.5,0.25,0.75\n",
    "pmf(lambd,a,b,m)\n",
    "'''"
   ]
  },
  {
   "cell_type": "markdown",
   "metadata": {},
   "source": [
    "## Computing the Log-Likelihood (15 P)\n",
    "\n",
    "Additionally, we would like to measure the quality of our latent variable model, specifically, the log-likelihood of the data according to the model:\n",
    "\n",
    "$$\n",
    "\\log p(\\mathcal{D}|\\theta) = \\sum_{x \\in \\mathcal{D}} \\log p(x|\\theta)\n",
    "$$\n",
    "\n",
    "\n",
    "**Task:**\n",
    "\n",
    "* **Implement the function below that takes the data and the model parameters as input and returns the log-likelihood.**"
   ]
  },
  {
   "cell_type": "code",
   "execution_count": 9,
   "metadata": {},
   "outputs": [],
   "source": [
    "def ll(X,lambd,a,b,m):\n",
    "    \n",
    "    pH = binom(m,X) * a**X * (1-a)**(m-X) * lambd\n",
    "    pT = binom(m,X) * b**X * (1-b)**(m-X) * (1-lambd)\n",
    "   \n",
    "    return numpy.log(pH+pT).sum()"
   ]
  },
  {
   "cell_type": "markdown",
   "metadata": {},
   "source": [
    "The code below tests the two functions you have implemented by (1) plotting for a particular choice of parameters $\\theta$ the pmf in superposition to the (normalized) data histogram, and (2) printing the log-likelihood of the data according to our model."
   ]
  },
  {
   "cell_type": "code",
   "execution_count": 10,
   "metadata": {},
   "outputs": [
    {
     "data": {
      "image/png": "[encoded data removed]",
      "text/plain": [
       "<Figure size 288x144 with 1 Axes>"
      ]
     },
     "metadata": {
      "needs_background": "light"
     },
     "output_type": "display_data"
    }
   ],
   "source": [
    "import matplotlib\n",
    "%matplotlib inline\n",
    "from matplotlib import pyplot as plt\n",
    "import numpy\n",
    "\n",
    "def plot(data,pdf,ll):\n",
    "    f = plt.figure(figsize=(4,2))\n",
    "    plt.hist(data,bins=numpy.arange(m+2)-0.5,alpha=0.3,color='g',density=True)\n",
    "    plt.plot(range(int(m+1)),pdf,'-o',c='r')\n",
    "    plt.ylabel('p(x)')\n",
    "    plt.xlabel('x')\n",
    "    plt.title('log-lihelihood: %.3f'%ll)\n",
    "    \n",
    "lambd,a,b = 0.5,0.25,0.75\n",
    "plot(X,pmf(lambd,a,b,m),ll(X,lambd,a,b,m))"
   ]
  },
  {
   "cell_type": "markdown",
   "metadata": {},
   "source": [
    "We observe that the model is not very accurate and the log-likelihood of the data is quite low."
   ]
  },
  {
   "cell_type": "markdown",
   "metadata": {},
   "source": [
    "## Implementing and Running the EM Algorithm (20 P)\n",
    "\n",
    "We now would like to implement the EM algorithm that iteratively searches for optimal parameters $\\lambda$, $a$ and $b$. The function starts with some initial parameters that we set at hand. In each iteration, the E-step and the M-step are applied. According to our derivations in the theory part, the E-step and M-step are given by:\n",
    "\n",
    "*E-Step:*\n",
    "\n",
    "\\begin{align*}\n",
    "q(z=H|x) &= \\gamma \\cdot a^x (1-a)^{m-x} \\cdot \\lambda\\\\\n",
    "q(z=T|x) &= \\gamma \\cdot b^x (1-b)^{m-x} \\cdot (1-\\lambda)\n",
    "\\end{align*}\n",
    "\n",
    "with $\\gamma$ a normalization constant set to ensure $q(z=H|x)+q(z=T|x)=1$.\n",
    "\n",
    "*M-Step:*\n",
    "\n",
    "\\begin{align*}\n",
    "\\lambda &= \\frac1N \\sum_{x \\in \\mathcal{D}} q(z=H|x) & \n",
    "a &= \\frac{\\sum_{x \\in \\mathcal{D}} q(z=H|x) \\cdot x}{\\sum_{x \\in \\mathcal{D}} q(z=H|x) \\cdot m} & \n",
    "b &= \\frac{\\sum_{x \\in \\mathcal{D}} q(z=T|x) \\cdot x}{\\sum_{x \\in \\mathcal{D}} q(z=T|x) \\cdot m}\n",
    "\\end{align*}\n",
    "\n",
    "\n",
    "**Task:**\n",
    "\n",
    "* **Implement the E-Step and the M-Step.**"
   ]
  },
  {
   "cell_type": "code",
   "execution_count": 11,
   "metadata": {},
   "outputs": [],
   "source": [
    "def Estep(lambd,a,b,X,m):\n",
    "\n",
    "    qH = a**X * (1-a)**(m-X) * lambd\n",
    "    qT = b**X * (1-b)**(m-X) * (1-lambd)\n",
    "    \n",
    "    return qH/(qH+qT), qT/(qH+qT)\n",
    "\n",
    "def Mstep(qH,qT,X,m):\n",
    "\n",
    "    lambd = qH.mean()\n",
    "    a = (qH*X).sum()/(qH*m).sum()\n",
    "    b = (qT*X).sum()/(qT*m).sum()\n",
    "    \n",
    "    return lambd,a,b"
   ]
  },
  {
   "cell_type": "markdown",
   "metadata": {},
   "source": [
    "The code below runs the EM procedure for 4 iterations, starting from some intial parameters chosen at hand, and shows the pdf and the log-likelihood at each iteration."
   ]
  },
  {
   "cell_type": "code",
   "execution_count": 12,
   "metadata": {},
   "outputs": [
    {
     "data": {
      "image/png": "[encoded data removed]",
      "text/plain": [
       "<Figure size 288x144 with 1 Axes>"
      ]
     },
     "metadata": {
      "needs_background": "light"
     },
     "output_type": "display_data"
    },
    {
     "data": {
      "image/png": "[encoded data removed]",
      "text/plain": [
       "<Figure size 288x144 with 1 Axes>"
      ]
     },
     "metadata": {
      "needs_background": "light"
     },
     "output_type": "display_data"
    },
    {
     "data": {
      "image/png": "[encoded data removed]",
      "text/plain": [
       "<Figure size 288x144 with 1 Axes>"
      ]
     },
     "metadata": {
      "needs_background": "light"
     },
     "output_type": "display_data"
    },
    {
     "data": {
      "image/png": "[encoded data removed]",
      "text/plain": [
       "<Figure size 288x144 with 1 Axes>"
      ]
     },
     "metadata": {
      "needs_background": "light"
     },
     "output_type": "display_data"
    }
   ],
   "source": [
    "lambd,a,b = 0.5,0.4,0.6\n",
    "\n",
    "for t in range(4):\n",
    "    plot(X,pmf(lambd,a,b,m),ll(X,lambd,a,b,m))\n",
    "    qH,qT = Estep(lambd,a,b,X,m)\n",
    "    lambd,a,b = Mstep(qH,qT,X,m)"
   ]
  },
  {
   "cell_type": "markdown",
   "metadata": {},
   "source": [
    "Although the initial choice of parameters is not good, the procedure converges very quickly, and the improvement becomes marginal after only two iterations."
   ]
  }
 ],
 "metadata": {
  "kernelspec": {
   "display_name": "Python 3",
   "language": "python",
   "name": "python3"
  },
  "language_info": {
   "codemirror_mode": {
    "name": "ipython",
    "version": 3
   },
   "file_extension": ".py",
   "mimetype": "text/x-python",
   "name": "python",
   "nbconvert_exporter": "python",
   "pygments_lexer": "ipython3",
   "version": "3.8.5"
  }
 },
 "nbformat": 4,
 "nbformat_minor": 1
}
